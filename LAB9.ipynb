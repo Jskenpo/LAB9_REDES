{
 "cells": [
  {
   "cell_type": "markdown",
   "metadata": {},
   "source": [
    "# Laboratorio 9 \n",
    "## Estacion Meteorologica"
   ]
  },
  {
   "cell_type": "code",
   "execution_count": 1,
   "metadata": {},
   "outputs": [
    {
     "name": "stdout",
     "output_type": "stream",
     "text": [
      "{\"temperatura\": 56.25, \"humedad\": 67, \"direccion_viento\": \"NO\"}\n"
     ]
    }
   ],
   "source": [
    "import random\n",
    "import json\n",
    "\n",
    "def generar_datos():\n",
    "    temperatura = round(random.uniform(0, 110), 2)\n",
    "    humedad = random.randint(0, 100)\n",
    "    direccion_viento = random.choice([\"N\", \"NE\", \"E\", \"SE\", \"S\", \"SO\", \"O\", \"NO\"])\n",
    "    datos = {\"temperatura\": temperatura, \"humedad\": humedad, \"direccion_viento\": direccion_viento}\n",
    "    return json.dumps(datos)\n",
    "\n",
    "# Prueba de la función\n",
    "print(generar_datos())\n"
   ]
  },
  {
   "cell_type": "code",
   "execution_count": 3,
   "metadata": {},
   "outputs": [
    {
     "name": "stdout",
     "output_type": "stream",
     "text": [
      "Datos enviados: {\"temperatura\": 95.09, \"humedad\": 6, \"direccion_viento\": \"N\"}\n",
      "Datos enviados: {\"temperatura\": 2.67, \"humedad\": 10, \"direccion_viento\": \"NO\"}\n",
      "Datos enviados: {\"temperatura\": 91.85, \"humedad\": 35, \"direccion_viento\": \"S\"}\n",
      "Datos enviados: {\"temperatura\": 23.12, \"humedad\": 36, \"direccion_viento\": \"NE\"}\n",
      "Datos enviados: {\"temperatura\": 40.65, \"humedad\": 37, \"direccion_viento\": \"N\"}\n"
     ]
    }
   ],
   "source": [
    "from kafka import KafkaProducer\n",
    "import time\n",
    "\n",
    "producer = KafkaProducer(bootstrap_servers='164.92.76.15:9092', value_serializer=lambda v: v.encode('utf-8'))\n",
    "\n",
    "for _ in range(5):  # Enviar 5 mensajes de prueba\n",
    "    data = generar_datos()\n",
    "    #carnet de estudiante \n",
    "    producer.send('21153', value=data)\n",
    "    print(f\"Datos enviados: {data}\")\n",
    "    time.sleep(2)\n"
   ]
  },
  {
   "cell_type": "code",
   "execution_count": null,
   "metadata": {},
   "outputs": [],
   "source": [
    "from kafka import KafkaConsumer\n",
    "import json\n",
    "\n",
    "consumer = KafkaConsumer(\n",
    "    '21153',\n",
    "    bootstrap_servers='164.92.76.15:9092',\n",
    "    auto_offset_reset='earliest',\n",
    "    group_id='grupo1'\n",
    ")\n",
    "\n",
    "for message in consumer:\n",
    "    datos = json.loads(message.value)\n",
    "    print(f\"Temperatura: {datos['temperatura']}°C, Humedad: {datos['humedad']}%, Viento: {datos['direccion_viento']}\")\n"
   ]
  },
  {
   "cell_type": "code",
   "execution_count": null,
   "metadata": {},
   "outputs": [],
   "source": [
    "import matplotlib.pyplot as plt\n",
    "\n",
    "temperaturas, humedades = [], []\n",
    "\n",
    "plt.ion()  # Activa el modo interactivo\n",
    "fig, (ax1, ax2) = plt.subplots(2, 1)\n",
    "\n",
    "for message in consumer:\n",
    "    datos = json.loads(message.value)\n",
    "    temperaturas.append(datos['temperatura'])\n",
    "    humedades.append(datos['humedad'])\n",
    "\n",
    "    # Actualiza gráficos\n",
    "    ax1.clear()\n",
    "    ax2.clear()\n",
    "    ax1.plot(temperaturas, label=\"Temperatura (°C)\")\n",
    "    ax2.plot(humedades, label=\"Humedad (%)\")\n",
    "    plt.pause(1)\n"
   ]
  }
 ],
 "metadata": {
  "kernelspec": {
   "display_name": "Python 3",
   "language": "python",
   "name": "python3"
  },
  "language_info": {
   "codemirror_mode": {
    "name": "ipython",
    "version": 3
   },
   "file_extension": ".py",
   "mimetype": "text/x-python",
   "name": "python",
   "nbconvert_exporter": "python",
   "pygments_lexer": "ipython3",
   "version": "3.11.7"
  }
 },
 "nbformat": 4,
 "nbformat_minor": 2
}
